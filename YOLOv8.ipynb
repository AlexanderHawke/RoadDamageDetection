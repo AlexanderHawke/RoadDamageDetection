{
 "cells": [
  {
   "cell_type": "code",
   "execution_count": 8,
   "metadata": {},
   "outputs": [],
   "source": [
    "# Make sure to run this script before running the rest of the jupyter notebook.\n",
    "# pip install ultralytics lxml"
   ]
  },
  {
   "cell_type": "code",
   "execution_count": 9,
   "metadata": {},
   "outputs": [],
   "source": [
    "# ## Step 1: Import Necessary Libraries\n",
    "# In this cell, we import the required libraries, including `os`, `json`, `KFold` from `sklearn`, and `YOLO` from `ultralytics`.\n",
    "\n",
    "import os\n",
    "import json\n",
    "from sklearn.model_selection import KFold\n",
    "from ultralytics import YOLO\n",
    "import shutil"
   ]
  },
  {
   "cell_type": "code",
   "execution_count": 10,
   "metadata": {},
   "outputs": [],
   "source": [
    "# ## Step 2: Load Configuration from `config.json`\n",
    "# Load the dataset paths from the `config.json` file. This file should contain the base path and the relative paths for training and test directories for each country.\n",
    "\n",
    "with open(\"config.json\", \"r\") as f:\n",
    "    config = json.load(f)\n",
    "\n",
    "base_path = config[\"base_path\"]"
   ]
  },
  {
   "cell_type": "code",
   "execution_count": 11,
   "metadata": {},
   "outputs": [
    {
     "name": "stdout",
     "output_type": "stream",
     "text": [
      "Processing directory: China_Drone/train\n",
      "Images directory: E:/Honours Project/RDD2022\\China_Drone/train\\images\n",
      "Annotations directory: E:/Honours Project/RDD2022\\China_Drone/train\\annotations\\xmls\n",
      "Processing directory: China_MotorBike/train\n",
      "Images directory: E:/Honours Project/RDD2022\\China_MotorBike/train\\images\n",
      "Annotations directory: E:/Honours Project/RDD2022\\China_MotorBike/train\\annotations\\xmls\n",
      "Processing directory: Czech/train\n",
      "Images directory: E:/Honours Project/RDD2022\\Czech/train\\images\n",
      "Annotations directory: E:/Honours Project/RDD2022\\Czech/train\\annotations\\xmls\n",
      "Processing directory: India/train\n",
      "Images directory: E:/Honours Project/RDD2022\\India/train\\images\n",
      "Annotations directory: E:/Honours Project/RDD2022\\India/train\\annotations\\xmls\n",
      "Processing directory: Japan/train\n",
      "Images directory: E:/Honours Project/RDD2022\\Japan/train\\images\n",
      "Annotations directory: E:/Honours Project/RDD2022\\Japan/train\\annotations\\xmls\n",
      "Processing directory: Norway/train\n",
      "Images directory: E:/Honours Project/RDD2022\\Norway/train\\images\n",
      "Annotations directory: E:/Honours Project/RDD2022\\Norway/train\\annotations\\xmls\n",
      "Processing directory: United_States/train\n",
      "Images directory: E:/Honours Project/RDD2022\\United_States/train\\images\n",
      "Annotations directory: E:/Honours Project/RDD2022\\United_States/train\\annotations\\xmls\n",
      "All collected training images: 38385\n",
      "All collected training labels: 38385\n"
     ]
    }
   ],
   "source": [
    "all_train_images = []\n",
    "all_train_labels = []\n",
    "\n",
    "for train_dir in config[\"train_dirs\"]:\n",
    "    print(\"Processing directory:\", train_dir)\n",
    "    images_dir = os.path.join(base_path, train_dir, \"images\")\n",
    "    annotations_dir = os.path.join(base_path, train_dir, \"annotations\", \"xmls\")\n",
    "\n",
    "    print(\"Images directory:\", images_dir)\n",
    "    print(\"Annotations directory:\", annotations_dir)\n",
    "\n",
    "    # Check if directories exist\n",
    "    if not os.path.exists(images_dir):\n",
    "        print(f\"Warning: Images directory does not exist: {images_dir}\")\n",
    "        continue\n",
    "    if not os.path.exists(annotations_dir):\n",
    "        print(f\"Warning: Annotations directory does not exist: {annotations_dir}\")\n",
    "        continue\n",
    "\n",
    "    # List all image files in the images directory\n",
    "    images = [os.path.join(images_dir, img) for img in os.listdir(images_dir) if img.endswith(\".jpg\")]\n",
    "    # print(\"Found images:\", images)\n",
    "\n",
    "    # Corresponding label paths based on image names\n",
    "    labels = [os.path.join(annotations_dir, img.replace(\".jpg\", \".txt\")) for img in os.listdir(images_dir) if img.endswith(\".jpg\")]\n",
    "    # print(\"Expected labels:\", labels)\n",
    "\n",
    "    # Ensure that the annotation files exist for each image\n",
    "    valid_images = []\n",
    "    valid_labels = []\n",
    "    for img, lbl in zip(images, labels):\n",
    "        if os.path.exists(lbl):  # Only include images with corresponding .txt labels\n",
    "            valid_images.append(img)\n",
    "            valid_labels.append(lbl)\n",
    "        else:\n",
    "            print(f\"Missing label for image: {img}\")\n",
    "\n",
    "    all_train_images.extend(valid_images)\n",
    "    all_train_labels.extend(valid_labels)\n",
    "\n",
    "# Final check on collected images and labels\n",
    "print(\"All collected training images:\", len(all_train_images))\n",
    "print(\"All collected training labels:\", len(all_train_labels))\n"
   ]
  },
  {
   "cell_type": "code",
   "execution_count": 12,
   "metadata": {},
   "outputs": [],
   "source": [
    "# ## Step 4: Define Cross-Validation Parameters\n",
    "# Set up the cross-validation parameters, including the number of folds, training epochs, image size, and an empty list to store results.\n",
    "\n",
    "# Parameters for cross-validation\n",
    "k = 5  # Number of folds\n",
    "epochs = 50\n",
    "img_size = 640\n",
    "results = []\n",
    "\n",
    "kf = KFold(n_splits=k, shuffle=True, random_state=42)"
   ]
  },
  {
   "cell_type": "code",
   "execution_count": null,
   "metadata": {},
   "outputs": [
    {
     "name": "stdout",
     "output_type": "stream",
     "text": [
      "Starting fold 1 of 5...\n"
     ]
    },
    {
     "ename": "FileNotFoundError",
     "evalue": "[Errno 2] No such file or directory: 'e:\\\\Honours Project\\\\RoadDamageDetection\\\\temp_data\\\\fold_0\\\\road_damage.yaml'",
     "output_type": "error",
     "traceback": [
      "\u001b[1;31m---------------------------------------------------------------------------\u001b[0m",
      "\u001b[1;31mFileNotFoundError\u001b[0m                         Traceback (most recent call last)",
      "Cell \u001b[1;32mIn[14], line 24\u001b[0m\n\u001b[0;32m     17\u001b[0m yaml_content \u001b[38;5;241m=\u001b[39m \u001b[38;5;124mf\u001b[39m\u001b[38;5;124m\"\"\"\u001b[39m\n\u001b[0;32m     18\u001b[0m \u001b[38;5;124mtrain: \u001b[39m\u001b[38;5;132;01m{\u001b[39;00mtrain_image_dirs[\u001b[38;5;241m0\u001b[39m]\u001b[38;5;132;01m}\u001b[39;00m\n\u001b[0;32m     19\u001b[0m \u001b[38;5;124mval: \u001b[39m\u001b[38;5;132;01m{\u001b[39;00mval_image_dirs[\u001b[38;5;241m0\u001b[39m]\u001b[38;5;132;01m}\u001b[39;00m\n\u001b[0;32m     20\u001b[0m \u001b[38;5;124mnc: 4\u001b[39m\n\u001b[0;32m     21\u001b[0m \u001b[38;5;124mnames: [\u001b[39m\u001b[38;5;124m'\u001b[39m\u001b[38;5;124mD00\u001b[39m\u001b[38;5;124m'\u001b[39m\u001b[38;5;124m, \u001b[39m\u001b[38;5;124m'\u001b[39m\u001b[38;5;124mD10\u001b[39m\u001b[38;5;124m'\u001b[39m\u001b[38;5;124m, \u001b[39m\u001b[38;5;124m'\u001b[39m\u001b[38;5;124mD20\u001b[39m\u001b[38;5;124m'\u001b[39m\u001b[38;5;124m, \u001b[39m\u001b[38;5;124m'\u001b[39m\u001b[38;5;124mD40\u001b[39m\u001b[38;5;124m'\u001b[39m\u001b[38;5;124m]\u001b[39m\n\u001b[0;32m     22\u001b[0m \u001b[38;5;124m\u001b[39m\u001b[38;5;124m\"\"\"\u001b[39m\n\u001b[0;32m     23\u001b[0m yaml_file \u001b[38;5;241m=\u001b[39m os\u001b[38;5;241m.\u001b[39mpath\u001b[38;5;241m.\u001b[39mabspath(\u001b[38;5;124mf\u001b[39m\u001b[38;5;124m\"\u001b[39m\u001b[38;5;124mtemp_data/fold_\u001b[39m\u001b[38;5;132;01m{\u001b[39;00mfold\u001b[38;5;132;01m}\u001b[39;00m\u001b[38;5;124m/road_damage.yaml\u001b[39m\u001b[38;5;124m\"\u001b[39m)\n\u001b[1;32m---> 24\u001b[0m \u001b[38;5;28;01mwith\u001b[39;00m \u001b[38;5;28;43mopen\u001b[39;49m\u001b[43m(\u001b[49m\u001b[43myaml_file\u001b[49m\u001b[43m,\u001b[49m\u001b[43m \u001b[49m\u001b[38;5;124;43m\"\u001b[39;49m\u001b[38;5;124;43mw\u001b[39;49m\u001b[38;5;124;43m\"\u001b[39;49m\u001b[43m)\u001b[49m \u001b[38;5;28;01mas\u001b[39;00m f:\n\u001b[0;32m     25\u001b[0m     f\u001b[38;5;241m.\u001b[39mwrite(yaml_content)\n\u001b[0;32m     27\u001b[0m \u001b[38;5;66;03m# Train YOLOv8 on this fold\u001b[39;00m\n",
      "File \u001b[1;32m~\\AppData\\Roaming\\Python\\Python311\\site-packages\\IPython\\core\\interactiveshell.py:284\u001b[0m, in \u001b[0;36m_modified_open\u001b[1;34m(file, *args, **kwargs)\u001b[0m\n\u001b[0;32m    277\u001b[0m \u001b[38;5;28;01mif\u001b[39;00m file \u001b[38;5;129;01min\u001b[39;00m {\u001b[38;5;241m0\u001b[39m, \u001b[38;5;241m1\u001b[39m, \u001b[38;5;241m2\u001b[39m}:\n\u001b[0;32m    278\u001b[0m     \u001b[38;5;28;01mraise\u001b[39;00m \u001b[38;5;167;01mValueError\u001b[39;00m(\n\u001b[0;32m    279\u001b[0m         \u001b[38;5;124mf\u001b[39m\u001b[38;5;124m\"\u001b[39m\u001b[38;5;124mIPython won\u001b[39m\u001b[38;5;124m'\u001b[39m\u001b[38;5;124mt let you open fd=\u001b[39m\u001b[38;5;132;01m{\u001b[39;00mfile\u001b[38;5;132;01m}\u001b[39;00m\u001b[38;5;124m by default \u001b[39m\u001b[38;5;124m\"\u001b[39m\n\u001b[0;32m    280\u001b[0m         \u001b[38;5;124m\"\u001b[39m\u001b[38;5;124mas it is likely to crash IPython. If you know what you are doing, \u001b[39m\u001b[38;5;124m\"\u001b[39m\n\u001b[0;32m    281\u001b[0m         \u001b[38;5;124m\"\u001b[39m\u001b[38;5;124myou can use builtins\u001b[39m\u001b[38;5;124m'\u001b[39m\u001b[38;5;124m open.\u001b[39m\u001b[38;5;124m\"\u001b[39m\n\u001b[0;32m    282\u001b[0m     )\n\u001b[1;32m--> 284\u001b[0m \u001b[38;5;28;01mreturn\u001b[39;00m \u001b[43mio_open\u001b[49m\u001b[43m(\u001b[49m\u001b[43mfile\u001b[49m\u001b[43m,\u001b[49m\u001b[43m \u001b[49m\u001b[38;5;241;43m*\u001b[39;49m\u001b[43margs\u001b[49m\u001b[43m,\u001b[49m\u001b[43m \u001b[49m\u001b[38;5;241;43m*\u001b[39;49m\u001b[38;5;241;43m*\u001b[39;49m\u001b[43mkwargs\u001b[49m\u001b[43m)\u001b[49m\n",
      "\u001b[1;31mFileNotFoundError\u001b[0m: [Errno 2] No such file or directory: 'e:\\\\Honours Project\\\\RoadDamageDetection\\\\temp_data\\\\fold_0\\\\road_damage.yaml'"
     ]
    }
   ],
   "source": [
    "# ## Step 5: Perform K-Fold Cross-Validation\n",
    "# This cell iterates over each fold, creating training and validation splits, setting up temporary directories, and running YOLOv8 training.\n",
    "\n",
    "for fold, (train_index, val_index) in enumerate(kf.split(all_train_images)):\n",
    "    print(f\"Starting fold {fold + 1} of {k}...\")\n",
    "\n",
    "    # Get train and validation splits for this fold\n",
    "    train_images = [all_train_images[i] for i in train_index]\n",
    "    val_images = [all_train_images[i] for i in val_index]\n",
    "    train_labels = [all_train_labels[i] for i in train_index]\n",
    "    val_labels = [all_train_labels[i] for i in val_index]\n",
    "\n",
    "    # Create directory for YAML file if it doesn't exist\n",
    "    fold_dir = os.path.abspath(f\"temp_data/fold_{fold}\")\n",
    "    os.makedirs(fold_dir, exist_ok=True)\n",
    "\n",
    "    # Write the YAML config file for this fold, referencing the original directories\n",
    "    yaml_content = f\"\"\"\n",
    "    train: {os.path.dirname(train_images[0])}\n",
    "    val: {os.path.dirname(val_images[0])}\n",
    "    nc: 4\n",
    "    names: ['D00', 'D10', 'D20', 'D40']\n",
    "    \"\"\"\n",
    "    yaml_file = os.path.join(fold_dir, \"road_damage.yaml\")\n",
    "    with open(yaml_file, \"w\") as f:\n",
    "        f.write(yaml_content)\n",
    "\n",
    "    # Train YOLOv8 on this fold\n",
    "    model = YOLO(\"yolov8n.yaml\")\n",
    "    fold_results = model.train(data=yaml_file, epochs=epochs, imgsz=img_size)\n",
    "    results.append(fold_results)"
   ]
  },
  {
   "cell_type": "code",
   "execution_count": null,
   "metadata": {},
   "outputs": [],
   "source": [
    "# ## Step 6: Calculate Average Performance Metrics\n",
    "# After completing all folds, we calculate and print the average precision, recall, and mAP across the folds.\n",
    "\n",
    "avg_precision = sum(r['metrics/precision'] for r in results) / k\n",
    "avg_recall = sum(r['metrics/recall'] for r in results) / k\n",
    "avg_map = sum(r['metrics/mAP_0.5'] for r in results) / k\n",
    "\n",
    "print(f\"Average Precision: {avg_precision:.4f}\")\n",
    "print(f\"Average Recall: {avg_recall:.4f}\")\n",
    "print(f\"Average mAP@0.5: {avg_map:.4f}\")"
   ]
  },
  {
   "cell_type": "markdown",
   "metadata": {},
   "source": [
    "Testing the model"
   ]
  },
  {
   "cell_type": "code",
   "execution_count": null,
   "metadata": {},
   "outputs": [],
   "source": [
    "# # Load the YOLOv8 model (or create a new one)\n",
    "# model = YOLO(\"yolov8n.yaml\")  # using the 'nano' model variant; adjust if needed\n",
    "\n",
    "# # Train the model\n",
    "# model.train(data=\"Honours Project/roadDamage.yaml\", epochs=50, imgsz=640)"
   ]
  },
  {
   "cell_type": "code",
   "execution_count": null,
   "metadata": {},
   "outputs": [],
   "source": [
    "# # Evaluate on the validation or test set\n",
    "# results = model.val(data=\"C:/Users/alexa/Desktop/Honours Project/road_damage.yaml\", imgsz=640)\n",
    "# print(results)"
   ]
  }
 ],
 "metadata": {
  "kernelspec": {
   "display_name": "Python 3",
   "language": "python",
   "name": "python3"
  },
  "language_info": {
   "codemirror_mode": {
    "name": "ipython",
    "version": 3
   },
   "file_extension": ".py",
   "mimetype": "text/x-python",
   "name": "python",
   "nbconvert_exporter": "python",
   "pygments_lexer": "ipython3",
   "version": "3.11.4"
  }
 },
 "nbformat": 4,
 "nbformat_minor": 2
}
